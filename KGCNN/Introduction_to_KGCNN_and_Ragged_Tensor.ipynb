{
 "cells": [
  {
   "cell_type": "markdown",
   "metadata": {
    "id": "Cm2Brq_91RhU"
   },
   "source": [
    "### Installing KGCNN\n",
    "\n",
    "\n",
    "\n"
   ]
  },
  {
   "cell_type": "code",
   "execution_count": 26,
   "metadata": {
    "colab": {
     "base_uri": "https://localhost:8080/"
    },
    "id": "a5HTC24B1RRu",
    "outputId": "78560196-e5cc-4a0c-fff1-eb58fb0a0dd9"
   },
   "outputs": [
    {
     "name": "stdout",
     "output_type": "stream",
     "text": [
      "Requirement already satisfied: kgcnn==0.1.0 in c:\\users\\lamsd\\my_app\\lib\\site-packages (0.1.0)\n",
      "Requirement already satisfied: scikit-learn in c:\\users\\lamsd\\my_app\\lib\\site-packages (from kgcnn==0.1.0) (1.0.1)\n",
      "Requirement already satisfied: numpy in c:\\users\\lamsd\\my_app\\lib\\site-packages (from kgcnn==0.1.0) (1.22.3)\n",
      "Requirement already satisfied: pandas in c:\\users\\lamsd\\my_app\\lib\\site-packages (from kgcnn==0.1.0) (1.3.4)\n",
      "Requirement already satisfied: pytz>=2017.3 in c:\\users\\lamsd\\my_app\\lib\\site-packages (from pandas->kgcnn==0.1.0) (2021.3)\n",
      "Requirement already satisfied: python-dateutil>=2.7.3 in c:\\users\\lamsd\\my_app\\lib\\site-packages (from pandas->kgcnn==0.1.0) (2.8.2)\n",
      "Requirement already satisfied: scipy>=1.1.0 in c:\\users\\lamsd\\my_app\\lib\\site-packages (from scikit-learn->kgcnn==0.1.0) (1.7.1)\n",
      "Requirement already satisfied: threadpoolctl>=2.0.0 in c:\\users\\lamsd\\my_app\\lib\\site-packages (from scikit-learn->kgcnn==0.1.0) (3.0.0)\n",
      "Requirement already satisfied: joblib>=0.11 in c:\\users\\lamsd\\my_app\\lib\\site-packages (from scikit-learn->kgcnn==0.1.0) (1.1.0)\n",
      "Requirement already satisfied: six>=1.5 in c:\\users\\lamsd\\my_app\\lib\\site-packages (from python-dateutil>=2.7.3->pandas->kgcnn==0.1.0) (1.15.0)\n",
      "Requirement already satisfied: openbabel==3.0.0a1 in c:\\users\\lamsd\\my_app\\lib\\site-packages (3.0.0a1)\n"
     ]
    }
   ],
   "source": [
    "!pip install kgcnn==0.1.0\n",
    "!pip install openbabel==3.0.0a1"
   ]
  },
  {
   "cell_type": "markdown",
   "metadata": {
    "id": "0WUSzdZWzp-8"
   },
   "source": [
    "### Necessary imports"
   ]
  },
  {
   "cell_type": "code",
   "execution_count": 27,
   "metadata": {
    "id": "iam8YakIyb49"
   },
   "outputs": [],
   "source": [
    "import math\n",
    "import numpy as np\n",
    "import tensorflow as tf\n",
    "import tensorflow.keras as ks\n",
    "import matplotlib.pyplot as plt\n",
    "%matplotlib inline\n",
    "from sklearn.utils import shuffle\n",
    "from kgcnn.data.qm.qm9 import qm9_graph\n",
    "from kgcnn.literature.Megnet import getmodelMegnet,softplus2\n",
    "from kgcnn.utils.learning import lr_lin_reduction"
   ]
  },
  {
   "cell_type": "markdown",
   "metadata": {
    "id": "fX9QUNCWzvX5"
   },
   "source": [
    "# BRIEF INTRODUCTION TO `RaggedTensor`\n",
    "\n",
    "*Ragged tensors* are the TensorFlow equivalent of nested variable-length\n",
    "lists. They make it easy to store and process data with non-uniform shapes,\n",
    "including:\n",
    "\n",
    "*   Variable-length features, such as the set of actors in a movie.\n",
    "*   Batches of variable-length sequential inputs, such as sentences or video\n",
    "    clips.\n",
    "*   Hierarchical inputs, such as text documents that are subdivided into\n",
    "    sections, paragraphs, sentences, and words.\n",
    "*   Individual fields in structured inputs, such as protocol buffers.\n"
   ]
  },
  {
   "cell_type": "markdown",
   "metadata": {
    "id": "WVWHakmZ0mXU"
   },
   "source": [
    "### Constructing a ragged tensor\n",
    "\n",
    "The simplest way to construct a ragged tensor is using\n",
    "`tf.ragged.constant`, which builds the\n",
    "`RaggedTensor` corresponding to a given nested Python `list` or numpy `array`"
   ]
  },
  {
   "cell_type": "code",
   "execution_count": 28,
   "metadata": {
    "colab": {
     "base_uri": "https://localhost:8080/"
    },
    "id": "zRqLf2LUzpip",
    "outputId": "1d1254f6-6068-44f2-bb56-a41b4d3b6441"
   },
   "outputs": [
    {
     "name": "stdout",
     "output_type": "stream",
     "text": [
      "<tf.RaggedTensor [[b\"Let's\", b'build', b'some', b'ragged', b'tensors', b'!'],\n",
      " [b'We', b'can', b'use', b'tf.ragged.constant', b'.']]>\n"
     ]
    }
   ],
   "source": [
    "sentences = tf.ragged.constant([\n",
    "    [\"Let's\", \"build\", \"some\", \"ragged\", \"tensors\", \"!\"],\n",
    "    [\"We\", \"can\", \"use\", \"tf.ragged.constant\", \".\"]])\n",
    "print(sentences)"
   ]
  },
  {
   "cell_type": "code",
   "execution_count": 29,
   "metadata": {
    "colab": {
     "base_uri": "https://localhost:8080/"
    },
    "id": "3DJaz8UmzpMr",
    "outputId": "83973157-705a-471b-ee7a-5865e333710a"
   },
   "outputs": [
    {
     "name": "stdout",
     "output_type": "stream",
     "text": [
      "<tf.RaggedTensor [[[b'I', b'have', b'a', b'cat'], [b'His', b'name', b'is', b'Mat']],\n",
      " [[b'Do', b'you', b'want', b'to', b'come', b'visit'],\n",
      "  [b\"I'm\", b'free', b'tomorrow']]]>\n"
     ]
    }
   ],
   "source": [
    "paragraphs = tf.ragged.constant([\n",
    "    [['I', 'have', 'a', 'cat'], ['His', 'name', 'is', 'Mat']],\n",
    "    [['Do', 'you', 'want', 'to', 'come', 'visit'], [\"I'm\", 'free', 'tomorrow']],\n",
    "])\n",
    "print(paragraphs)"
   ]
  },
  {
   "cell_type": "markdown",
   "metadata": {
    "id": "-epGuS9r0x2W"
   },
   "source": [
    "Ragged tensors can also be constructed by pairing flat *values* tensors with\n",
    "*row-partitioning* tensors indicating how those values should be divided into\n",
    "rows, using factory classmethods such as `tf.RaggedTensor.from_value_rowids`,\n",
    "`tf.RaggedTensor.from_row_lengths`, and\n",
    "`tf.RaggedTensor.from_row_splits`. View the [docs](https://www.tensorflow.org/api_docs/python/tf/RaggedTensor) to see how."
   ]
  },
  {
   "cell_type": "markdown",
   "metadata": {
    "id": "mCpxexT11lNS"
   },
   "source": [
    "## Ragged vs. sparse\n",
    "\n",
    "A ragged tensor should *not* be thought of as a type of sparse tensor.  In particular, sparse tensors are *efficient encodings for tf.Tensor*, that model the same data in a compact format; but ragged tensor is an *extension to tf.Tensor*, that models an expanded class of data.  This difference is crucial when defining operations:\n",
    "\n",
    "* Applying an op to a sparse or dense tensor should always give the same result.\n",
    "* Applying an op to a ragged or sparse tensor may give different results.\n",
    "\n",
    "\n",
    "![ragged_concat](https://www.tensorflow.org/images/ragged_tensors/ragged_concat.png)\n"
   ]
  },
  {
   "cell_type": "code",
   "execution_count": 30,
   "metadata": {
    "colab": {
     "base_uri": "https://localhost:8080/"
    },
    "id": "WA0dCaaH1nS6",
    "outputId": "4043f389-0a40-449a-d685-0d267918144a"
   },
   "outputs": [
    {
     "name": "stdout",
     "output_type": "stream",
     "text": [
      "<tf.RaggedTensor [[b'John', b'fell', b'asleep'], [b'a', b'big', b'dog', b'barked'],\n",
      " [b'my', b'cat', b'is', b'fuzzy']]>\n"
     ]
    }
   ],
   "source": [
    "ragged_x = tf.ragged.constant([[\"John\"], [\"a\", \"big\", \"dog\"], [\"my\", \"cat\"]])\n",
    "ragged_y = tf.ragged.constant([[\"fell\", \"asleep\"], [\"barked\"], [\"is\", \"fuzzy\"]])\n",
    "print(tf.concat([ragged_x, ragged_y], axis=1))"
   ]
  },
  {
   "cell_type": "markdown",
   "metadata": {
    "id": "uAMi6sh81m8j"
   },
   "source": [
    "But concatenating sparse tensors is equivalent to concatenating the corresponding dense tensors,\n",
    "as illustrated by the following example (where Ø indicates missing values):\n",
    "\n",
    "![sparse_concat](https://www.tensorflow.org/images/ragged_tensors/sparse_concat.png)\n"
   ]
  },
  {
   "cell_type": "code",
   "execution_count": 31,
   "metadata": {
    "colab": {
     "base_uri": "https://localhost:8080/"
    },
    "id": "W1Xp-YLE1nl1",
    "outputId": "c03ff86f-2887-4453-b62e-2c18942276d8"
   },
   "outputs": [
    {
     "name": "stdout",
     "output_type": "stream",
     "text": [
      "tf.Tensor(\n",
      "[[b'John' b'' b'' b'fell' b'asleep']\n",
      " [b'a' b'big' b'dog' b'barked' b'']\n",
      " [b'my' b'cat' b'' b'is' b'fuzzy']], shape=(3, 5), dtype=string)\n"
     ]
    }
   ],
   "source": [
    "sparse_x = ragged_x.to_sparse()\n",
    "sparse_y = ragged_y.to_sparse()\n",
    "sparse_result = tf.sparse.concat(sp_inputs=[sparse_x, sparse_y], axis=1)\n",
    "print(tf.sparse.to_dense(sparse_result, ''))"
   ]
  },
  {
   "cell_type": "markdown",
   "metadata": {
    "id": "m03ARB4s04uW"
   },
   "source": [
    "## IMPLEMENTING MEGNet NETWORKS USING KCGNN"
   ]
  },
  {
   "cell_type": "code",
   "execution_count": null,
   "metadata": {
    "colab": {
     "base_uri": "https://localhost:8080/"
    },
    "id": "8lbykR0PyxMW",
    "outputId": "f4a99075-d221-4e03-f545-aabe328ce0b0"
   },
   "outputs": [
    {
     "name": "stdout",
     "output_type": "stream",
     "text": [
      "Database path: C:\\Users\\LAMSD\\my_app\\Lib\\site-packages\\kgcnn\\data\\qm\n",
      "Downloading dataset...done\n",
      "Creating directory ... done\n",
      "Read Zip File ... done\n",
      "Extracting Zip folder...done\n",
      "Reading dsgdb9nsd files ..."
     ]
    }
   ],
   "source": [
    "# Download Dataset\n",
    "qm9_data = qm9_graph()\n",
    "y_data = qm9_data[0][:,7]*27.2114  #select LUMO in eV\n",
    "x_data = qm9_data[1:]\n",
    "\n",
    "#Scale output\n",
    "y_mean = np.mean(y_data)\n",
    "y_data = (np.expand_dims(y_data,axis=-1)-y_mean)  \n",
    "data_unit = 'eV'"
   ]
  },
  {
   "cell_type": "code",
   "execution_count": null,
   "metadata": {
    "colab": {
     "base_uri": "https://localhost:8080/"
    },
    "id": "KGJblOC7yxiI",
    "outputId": "a818014c-7cd5-4393-c71d-2b3a7c34e527"
   },
   "outputs": [],
   "source": [
    "#Make test/train split\n",
    "VALSIZE = 100\n",
    "TRAINSIZE = 2000\n",
    "print(\"Training Size:\",TRAINSIZE,\" Validation Size:\",VALSIZE )\n",
    "inds = np.arange(len(y_data))\n",
    "inds = shuffle(inds)\n",
    "ind_val = inds[:VALSIZE ]\n",
    "ind_train = inds[VALSIZE:(VALSIZE + TRAINSIZE)]\n",
    "\n",
    "# Select train/test data\n",
    "xtrain = [[x[i] for i in ind_train] for x in x_data]\n",
    "ytrain = y_data[ind_train]\n",
    "xval = [[x[i] for i in ind_val] for x in x_data]\n",
    "yval = y_data[ind_val]"
   ]
  },
  {
   "cell_type": "code",
   "execution_count": null,
   "metadata": {
    "id": "nmQO53MS4bmn"
   },
   "outputs": [],
   "source": [
    "def make_ragged(inlist):\n",
    "    return tf.RaggedTensor.from_row_lengths(np.concatenate(inlist,axis=0), np.array([len(x) for x in inlist],dtype=np.int))\n",
    "\n",
    "#Make ragged graph tensors plus normal tensor for graph state\n",
    "xval = [make_ragged(x) for x in xval[:3]] + [tf.constant(xval[3])]\n",
    "xtrain = [make_ragged(x) for x in xtrain[:3]] + [tf.constant(xtrain[3])]\n"
   ]
  },
  {
   "cell_type": "code",
   "execution_count": null,
   "metadata": {
    "colab": {
     "base_uri": "https://localhost:8080/"
    },
    "id": "UfVLvzYk4nuy",
    "outputId": "92e83807-6d08-41dd-be65-aef4edcb81ae"
   },
   "outputs": [],
   "source": [
    "model =  getmodelMegnet(\n",
    "                    # Input\n",
    "                    input_node_shape = [None],\n",
    "                    input_edge_shape = [None,20],\n",
    "                    input_state_shape = [1],\n",
    "                    input_node_vocab = 10,\n",
    "                    input_node_embedd = 16,\n",
    "                    input_edge_embedd = 16,\n",
    "                    input_type = 'ragged', \n",
    "                    # Output\n",
    "                    output_embedd = 'graph', #Only graph possible for megnet\n",
    "                    output_use_bias = [True,True,True],\n",
    "                    output_dim = [32,16,1],\n",
    "                    output_activation = ['softplus2','softplus2','linear'],\n",
    "                    output_type = 'padded',\n",
    "                    #Model specs\n",
    "                    is_sorted = True,\n",
    "                    has_unconnected = False,\n",
    "                    nblocks = 3,\n",
    "                    n1= 64,\n",
    "                    n2 = 32,\n",
    "                    n3= 16,\n",
    "                    set2set_dim = 16,\n",
    "                    use_bias = True,\n",
    "                    act = 'softplus2',\n",
    "                    l2_coef = None,\n",
    "                    has_ff = True,\n",
    "                    dropout = None,\n",
    "                    dropout_on_predict = False,\n",
    "                    use_set2set = True,\n",
    "                    npass= 3,\n",
    "                    set2set_init = '0',\n",
    "                    set2set_pool = \"sum\"\n",
    "                    )\n",
    "\n",
    "\n",
    "learning_rate_start = 0.5e-3\n",
    "learning_rate_stop = 1e-5\n",
    "epo = 500\n",
    "epomin = 400\n",
    "optimizer = tf.keras.optimizers.Adam(lr=learning_rate_start)\n",
    "\n",
    "cbks = tf.keras.callbacks.LearningRateScheduler(lr_lin_reduction(learning_rate_start,learning_rate_stop,epomin,epo))\n",
    "model.compile(loss='mean_squared_error',\n",
    "              optimizer=optimizer,\n",
    "              metrics=['mean_absolute_error', 'mean_squared_error'])\n",
    "print(model.summary())"
   ]
  },
  {
   "cell_type": "code",
   "execution_count": null,
   "metadata": {
    "colab": {
     "base_uri": "https://localhost:8080/"
    },
    "id": "zUb1J6If4qge",
    "outputId": "215f2ae7-ee16-4ec5-dc82-965f5d606b1a"
   },
   "outputs": [],
   "source": [
    "trainlossall = []\n",
    "testlossall = []\n",
    "validlossall = []\n",
    "\n",
    "epostep = 10\n",
    "\n",
    "hist = model.fit(xtrain, ytrain, \n",
    "          epochs=epo,\n",
    "          batch_size=64,\n",
    "          callbacks=[cbks],\n",
    "          validation_freq=epostep,\n",
    "          validation_data=(xval,yval),\n",
    "          verbose=2\n",
    "          )\n",
    "\n",
    "trainlossall = hist.history['mean_absolute_error']\n",
    "testlossall = hist.history['val_mean_absolute_error']\n",
    "\n",
    "\n",
    "trainlossall =np.array(trainlossall)\n",
    "testlossall = np.array(testlossall)\n",
    "\n",
    "mae_valid = np.mean(np.abs(yval-model.predict(xval)))"
   ]
  },
  {
   "cell_type": "code",
   "execution_count": null,
   "metadata": {
    "colab": {
     "base_uri": "https://localhost:8080/",
     "height": 513
    },
    "id": "n1j_UpQR41Mh",
    "outputId": "490b781a-baa5-4bd6-a9ea-c428b46d1538"
   },
   "outputs": [],
   "source": [
    "#Plot loss vs epochs    \n",
    "plt.figure(figsize=(12,8))\n",
    "plt.plot(np.arange(trainlossall.shape[0]),trainlossall,label='Training Loss',c='blue')\n",
    "plt.plot(np.arange(epostep,epo+epostep,epostep),testlossall,label='Test Loss',c='red')\n",
    "plt.scatter([trainlossall.shape[0]],[mae_valid],label=\"{0:0.4f} \".format(mae_valid)+\"[\"+data_unit +\"]\",c='red')\n",
    "plt.xlabel('Epochs')\n",
    "plt.ylabel('Loss ' + \"[\"+data_unit +\"]\")\n",
    "plt.title('Megnet Loss')\n",
    "plt.legend(loc='upper right',fontsize='x-large')\n",
    "plt.savefig('megnet_loss.png')\n",
    "plt.show()"
   ]
  },
  {
   "cell_type": "code",
   "execution_count": null,
   "metadata": {
    "colab": {
     "base_uri": "https://localhost:8080/",
     "height": 497
    },
    "id": "Va1hj9ojzI9W",
    "outputId": "42376159-2e74-4427-ceb6-cff8807e3d22"
   },
   "outputs": [],
   "source": [
    "#Predicted vs Actual    \n",
    "preds = model.predict(xval)\n",
    "plt.figure(figsize=(12,8))\n",
    "plt.scatter(preds+y_mean, yval+y_mean, alpha=0.3,label=\"MAE: {0:0.4f} \".format(mae_valid)+\"[\"+data_unit +\"]\")\n",
    "plt.plot(np.arange(np.amin(yval), np.amax(yval),0.05), np.arange(np.amin(yval), np.amax(yval),0.05), color='red')\n",
    "plt.xlabel('Predicted')\n",
    "plt.ylabel('Actual')\n",
    "plt.legend(loc='upper left',fontsize='x-large')\n",
    "plt.savefig('megnet_predict.png')\n",
    "plt.show()"
   ]
  },
  {
   "cell_type": "code",
   "execution_count": null,
   "metadata": {},
   "outputs": [],
   "source": []
  }
 ],
 "metadata": {
  "colab": {
   "collapsed_sections": [],
   "name": "Introduction to KGCNN and Ragged Tensor.ipynb",
   "provenance": []
  },
  "kernelspec": {
   "display_name": "Python 3 (ipykernel)",
   "language": "python",
   "name": "python3"
  },
  "language_info": {
   "codemirror_mode": {
    "name": "ipython",
    "version": 3
   },
   "file_extension": ".py",
   "mimetype": "text/x-python",
   "name": "python",
   "nbconvert_exporter": "python",
   "pygments_lexer": "ipython3",
   "version": "3.8.10"
  }
 },
 "nbformat": 4,
 "nbformat_minor": 4
}

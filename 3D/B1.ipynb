{
 "cells": [
  {
   "cell_type": "code",
   "execution_count": 1,
   "id": "c8940fc8-4cba-47d9-9b8b-70e2900041ab",
   "metadata": {},
   "outputs": [],
   "source": [
    "import numpy as np"
   ]
  },
  {
   "cell_type": "code",
   "execution_count": 3,
   "id": "a34c25bd-6a95-414c-8c03-422a17257315",
   "metadata": {},
   "outputs": [],
   "source": [
    "shape = (3,2)"
   ]
  },
  {
   "cell_type": "code",
   "execution_count": 4,
   "id": "e097bf47-f16d-4dc5-b21a-ff67ab46763d",
   "metadata": {},
   "outputs": [
    {
     "data": {
      "text/plain": [
       "array([[[1., 1., 1.],\n",
       "        [1., 1., 1.]],\n",
       "\n",
       "       [[1., 1., 1.],\n",
       "        [1., 1., 1.]],\n",
       "\n",
       "       [[1., 1., 1.],\n",
       "        [1., 1., 1.]]])"
      ]
     },
     "execution_count": 4,
     "metadata": {},
     "output_type": "execute_result"
    }
   ],
   "source": [
    "np.ones((*shape, 3))"
   ]
  },
  {
   "cell_type": "code",
   "execution_count": null,
   "id": "bbe80d92-0f26-4a37-955c-402dc035f190",
   "metadata": {},
   "outputs": [],
   "source": []
  }
 ],
 "metadata": {
  "kernelspec": {
   "display_name": "Python 3 (ipykernel)",
   "language": "python",
   "name": "python3"
  },
  "language_info": {
   "codemirror_mode": {
    "name": "ipython",
    "version": 3
   },
   "file_extension": ".py",
   "mimetype": "text/x-python",
   "name": "python",
   "nbconvert_exporter": "python",
   "pygments_lexer": "ipython3",
   "version": "3.8.10"
  }
 },
 "nbformat": 4,
 "nbformat_minor": 5
}
